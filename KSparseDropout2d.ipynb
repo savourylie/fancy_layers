{
 "cells": [
  {
   "cell_type": "code",
   "execution_count": 8,
   "metadata": {},
   "outputs": [],
   "source": [
    "import torch\n",
    "import torch.nn as nn\n",
    "from torch.autograd import Variable\n",
    "\n",
    "class KSparseDropout(nn.Module):\n",
    "    def __init__(self, p=0.5, k=None, infer_ratio=1.0):\n",
    "        super().__init__()\n",
    "        self.p = p\n",
    "        self.k = k\n",
    "        \n",
    "    def forward(self, x):\n",
    "        if not self.k:\n",
    "            self.k = int(self.p * x.shape[1])\n",
    "        \n",
    "        # Enforce k-sparsity\n",
    "        topk, indices = torch.topk(x, self.k)\n",
    "        res = Variable(torch.zeros(x.shape[0], x.shape[1]))\n",
    "        res = res.scatter(1, indices, topk)\n",
    "        \n",
    "        return res\n",
    "    \n",
    "    \n",
    "class KSparseDropout2d(nn.Module):\n",
    "    def __init__(self, p=0.5, k=None, infer_ratio=1.0):\n",
    "        super().__init__()\n",
    "        self.p = p\n",
    "        self.k = k\n",
    "        \n",
    "    def forward(self, x):\n",
    "        if not self.k:\n",
    "            self.k = int(self.p * x.shape[1])\n",
    "        \n",
    "        activation = x.sum(dim=2).sum(dim=2)\n",
    "        topk, indices = torch.topk(activation, self.k, dim=1)\n",
    "        \n",
    "        for i, _ in enumerate(indices):\n",
    "            for j, _ in enumerate(x[i, :, :, :]):\n",
    "                if j not in indices[i]:\n",
    "                    x[i, j, :, :] = 0\n",
    "        \n",
    "        return x"
   ]
  },
  {
   "cell_type": "code",
   "execution_count": 9,
   "metadata": {},
   "outputs": [
    {
     "name": "stdout",
     "output_type": "stream",
     "text": [
      "tensor([[0.7582, 0.8596, 0.7181, 0.4069, 0.5181, 0.3860, 0.8217, 0.4648, 0.6444,\n",
      "         0.5185],\n",
      "        [0.0300, 0.3980, 0.4545, 0.2809, 0.1544, 0.1968, 0.6695, 0.7141, 0.3331,\n",
      "         0.6274]])\n",
      "tensor([[0.7582, 0.8596, 0.7181, 0.0000, 0.0000, 0.0000, 0.8217, 0.0000, 0.6444,\n",
      "         0.0000],\n",
      "        [0.0000, 0.3980, 0.4545, 0.0000, 0.0000, 0.0000, 0.6695, 0.7141, 0.0000,\n",
      "         0.6274]])\n"
     ]
    }
   ],
   "source": [
    "ks_dropout = KSparseDropout()\n",
    "\n",
    "x = torch.rand(2, 10)\n",
    "\n",
    "print(x)\n",
    "\n",
    "x = ks_dropout(x)\n",
    "\n",
    "print(x)"
   ]
  },
  {
   "cell_type": "code",
   "execution_count": null,
   "metadata": {},
   "outputs": [],
   "source": []
  }
 ],
 "metadata": {
  "kernelspec": {
   "display_name": "Python [conda env:pytorch]",
   "language": "python",
   "name": "conda-env-pytorch-py"
  },
  "language_info": {
   "codemirror_mode": {
    "name": "ipython",
    "version": 3
   },
   "file_extension": ".py",
   "mimetype": "text/x-python",
   "name": "python",
   "nbconvert_exporter": "python",
   "pygments_lexer": "ipython3",
   "version": "3.6.8"
  }
 },
 "nbformat": 4,
 "nbformat_minor": 2
}
