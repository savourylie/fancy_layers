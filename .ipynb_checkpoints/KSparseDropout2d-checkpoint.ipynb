{
 "cells": [
  {
   "cell_type": "code",
   "execution_count": 2,
   "metadata": {},
   "outputs": [],
   "source": [
    "import torch\n",
    "import torch.nn as nn\n",
    "\n",
    "class KSparseDropout2d(nn.Module):\n",
    "    def __init__(self, p=0.5, k=None, infer_ratio=1.0):\n",
    "        super().__init__()\n",
    "        self.p = p\n",
    "        self.k = k\n",
    "        \n",
    "    def forward(self, x):\n",
    "        if not self.k:\n",
    "            self.k = int(self.p * x.shape[1])\n",
    "        \n",
    "        activation = x.sum(dim=2).sum(dim=2)\n",
    "        topk, indices = torch.topk(activation, self.k, dim=1)\n",
    "        \n",
    "        for i, _ in enumerate(indices):\n",
    "            for j, _ in enumerate(x[i, :, :, :]):\n",
    "                if j not in indices[i]:\n",
    "                    x[i, j, :, :] = 0\n",
    "        \n",
    "        return x"
   ]
  },
  {
   "cell_type": "code",
   "execution_count": 5,
   "metadata": {},
   "outputs": [
    {
     "name": "stdout",
     "output_type": "stream",
     "text": [
      "tensor([[[[0.3041, 0.4042],\n",
      "          [0.2062, 0.6980]],\n",
      "\n",
      "         [[0.3968, 0.0019],\n",
      "          [0.0296, 0.9164]],\n",
      "\n",
      "         [[0.2404, 0.2867],\n",
      "          [0.1850, 0.3241]]],\n",
      "\n",
      "\n",
      "        [[[0.8757, 0.6750],\n",
      "          [0.9295, 0.6121]],\n",
      "\n",
      "         [[0.1939, 0.2632],\n",
      "          [0.4504, 0.1280]],\n",
      "\n",
      "         [[0.5080, 0.3760],\n",
      "          [0.0000, 0.4490]]],\n",
      "\n",
      "\n",
      "        [[[0.8406, 0.0418],\n",
      "          [0.6297, 0.4337]],\n",
      "\n",
      "         [[0.9892, 0.5293],\n",
      "          [0.7729, 0.0381]],\n",
      "\n",
      "         [[0.5002, 0.5776],\n",
      "          [0.3105, 0.8277]]]])\n",
      "tensor([[[[0.3041, 0.4042],\n",
      "          [0.2062, 0.6980]],\n",
      "\n",
      "         [[0.0000, 0.0000],\n",
      "          [0.0000, 0.0000]],\n",
      "\n",
      "         [[0.0000, 0.0000],\n",
      "          [0.0000, 0.0000]]],\n",
      "\n",
      "\n",
      "        [[[0.8757, 0.6750],\n",
      "          [0.9295, 0.6121]],\n",
      "\n",
      "         [[0.0000, 0.0000],\n",
      "          [0.0000, 0.0000]],\n",
      "\n",
      "         [[0.0000, 0.0000],\n",
      "          [0.0000, 0.0000]]],\n",
      "\n",
      "\n",
      "        [[[0.0000, 0.0000],\n",
      "          [0.0000, 0.0000]],\n",
      "\n",
      "         [[0.9892, 0.5293],\n",
      "          [0.7729, 0.0381]],\n",
      "\n",
      "         [[0.0000, 0.0000],\n",
      "          [0.0000, 0.0000]]]])\n"
     ]
    }
   ],
   "source": []
  },
  {
   "cell_type": "code",
   "execution_count": null,
   "metadata": {},
   "outputs": [],
   "source": []
  }
 ],
 "metadata": {
  "kernelspec": {
   "display_name": "Python [conda env:pytorch]",
   "language": "python",
   "name": "conda-env-pytorch-py"
  },
  "language_info": {
   "codemirror_mode": {
    "name": "ipython",
    "version": 3
   },
   "file_extension": ".py",
   "mimetype": "text/x-python",
   "name": "python",
   "nbconvert_exporter": "python",
   "pygments_lexer": "ipython3",
   "version": "3.6.8"
  }
 },
 "nbformat": 4,
 "nbformat_minor": 2
}
